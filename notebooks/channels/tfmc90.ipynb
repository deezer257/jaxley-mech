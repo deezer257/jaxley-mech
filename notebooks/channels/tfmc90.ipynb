{
 "cells": [
  {
   "cell_type": "code",
   "execution_count": 1,
   "metadata": {},
   "outputs": [],
   "source": [
    "import matplotlib.pyplot as plt\n",
    "import jax.numpy as jnp\n",
    "import jaxley as jx\n",
    "\n",
    "from jaxley import Compartment\n",
    "from jaxley_mech.channels.tfmc90 import Phototransduction\n",
    "from jaxley_mech.channels.lk04 import h, Kx, Kv, Ca, CaPump, CaNernstReversal, KCa, ClCa, Leak\n"
   ]
  },
  {
   "cell_type": "code",
   "execution_count": 2,
   "metadata": {},
   "outputs": [],
   "source": [
    "META = {\n",
    "    \"cell_type\": \"rod\",\n",
    "    \"species\": \"salamander (Ambystoma tigrinum)\",\n",
    "    \"reference\": [\n",
    "        \"Torre, V., Forti, S., Menini, A., & Campani, M. (1990). Model of Phototransduction in Retinal Rods. Cold Spring Harbor Symposia on Quantitative Biology, 55(0), 563–573. https://doi.org/10.1101/SQB.1990.055.01.054\",\n",
    "        \"Kamiyama, Y., Wu, S. M., & Usui, S. (2009). Simulation analysis of bandpass filtering properties of a rod photoreceptor network. Vision Research, 49(9), 970–978. https://doi.org/10.1016/j.visres.2009.03.003\",\n",
    "    ],\n",
    "    \"note\": \"The model is from Torre et al. (1990) but variable naming convention and default parameters are from Kamiyama et al. (2009).\",\n",
    "}\n",
    "\n",
    "def parse_s(s, to_records=[]):\n",
    "    # if len(s) !== len(t):\n",
    "    return {key: s[i].T[:-1] for (i, key) in enumerate(to_records)}\n"
   ]
  },
  {
   "cell_type": "markdown",
   "metadata": {},
   "source": [
    "Here, we reproduced TEA-induced oscillatory action potentials in rods under \"dark\" current conditions, which were disrupted by two 20 ms light pulses over 30 seconds (Liu & Kourennyi, 2006). Unlike the Liu paper, which used precomputed photocurrent, we simulated the photocurrent via the phototransduction channel (Torre, et al., 1990)."
   ]
  },
  {
   "cell_type": "code",
   "execution_count": 5,
   "metadata": {},
   "outputs": [
    {
     "ename": "NameError",
     "evalue": "name 'itensity' is not defined",
     "output_type": "error",
     "traceback": [
      "\u001b[0;31m---------------------------------------------------------------------------\u001b[0m",
      "\u001b[0;31mNameError\u001b[0m                                 Traceback (most recent call last)",
      "Cell \u001b[0;32mIn[5], line 74\u001b[0m\n\u001b[1;32m     72\u001b[0m light_on_start_2 \u001b[38;5;241m=\u001b[39m \u001b[38;5;28mint\u001b[39m( pre_light_time_2 \u001b[38;5;241m/\u001b[39m dt)\n\u001b[1;32m     73\u001b[0m light_on_end_2 \u001b[38;5;241m=\u001b[39m \u001b[38;5;28mint\u001b[39m((pre_light_time_2 \u001b[38;5;241m+\u001b[39m light_on_time) \u001b[38;5;241m/\u001b[39m dt)\n\u001b[0;32m---> 74\u001b[0m Jhv \u001b[38;5;241m=\u001b[39m Jhv\u001b[38;5;241m.\u001b[39mat[light_on_start_1:light_on_end_1]\u001b[38;5;241m.\u001b[39mset(\u001b[43mitensity\u001b[49m)\n\u001b[1;32m     75\u001b[0m Jhv \u001b[38;5;241m=\u001b[39m Jhv\u001b[38;5;241m.\u001b[39mat[light_on_start_2:light_on_end_2]\u001b[38;5;241m.\u001b[39mset(itensity)\n\u001b[1;32m     76\u001b[0m Jhv \u001b[38;5;241m=\u001b[39m Jhv\u001b[38;5;241m.\u001b[39mreshape(\u001b[38;5;241m-\u001b[39m\u001b[38;5;241m1\u001b[39m,\u001b[38;5;241m1\u001b[39m)\n",
      "\u001b[0;31mNameError\u001b[0m: name 'itensity' is not defined"
     ]
    },
    {
     "data": {
      "image/png": "[encoded data removed]",
      "text/plain": [
       "<Figure size 300x500 with 3 Axes>"
      ]
     },
     "metadata": {},
     "output_type": "display_data"
    }
   ],
   "source": [
    "\n",
    "\n",
    "params = {\n",
    "    \"length\": 10,\n",
    "    \"radius\": 5,\n",
    "    \"capacitance\": 30.0,\n",
    "    \"axial_resistivity\": 34.5,\n",
    "    \"v\": -34,\n",
    "\n",
    "    \"Leak_gLeak\": 0.52e-3,\n",
    "    \"Leak_eLeak\": -74,\n",
    "\n",
    "    \"eK\": -74,\n",
    "    \"Kv_gKv\": 1e-3,\n",
    "    \"Kx_gKx\": 0.45e-3,\n",
    "\n",
    "    \"CaPump_depth\": 10,\n",
    "    \"CaPump_taur\": 20, \n",
    "    \"CaPump_cainf\": 5e-5,    \n",
    "\n",
    "    \"ClCa_eClCa\": -20,\n",
    "    \"ClCa_gClCa\": 1.3e-3,\n",
    "    \"ClCa_Khalf\": 1e-3, \n",
    "\n",
    "    \"KCa_gKCa\": 0.2e-3,\n",
    "    \"KCa_Khalf\": 0.32e-3,\n",
    "\n",
    "    \"Ca_gCa\": 2.2e-3, \n",
    "    \"eCa\": 40,\n",
    "    \n",
    "    \"h_gh\": 2.5e-3,\n",
    "    \"h_eh\": -32,\n",
    "}\n",
    "\n",
    "to_records = [\n",
    "    \"iPhoto\", # photocurrent in outer segment\n",
    "    \"v\", # photoresponse in inner segment\n",
    "] # albeit we model it in a single compartment\n",
    "\n",
    "\n",
    "fig, ax = plt.subplot_mosaic([[\"Jhv\"], [\"Photocurrent\"], [\"v\"]], figsize=(3, 5))\n",
    "\n",
    "for intensity in [200]:\n",
    "    pre_light_time_1 = 1000  # ms\n",
    "    pre_light_time_2 = 15000 # ms\n",
    "    light_on_time = 20  # ms\n",
    "    total_time = 30000 # ms\n",
    "    dt = 0.1 # ms\n",
    "    time_steps = int(total_time / dt)\n",
    "    time = jnp.linspace(0, total_time, time_steps)\n",
    "\n",
    "    cell = Compartment()\n",
    "    cell.insert(Phototransduction())\n",
    "    cell.insert(h())\n",
    "    cell.insert(Kx())\n",
    "    cell.insert(Kv())\n",
    "    cell.insert(Ca())\n",
    "    cell.insert(ClCa())\n",
    "    cell.insert(KCa())\n",
    "    cell.insert(CaPump())\n",
    "    cell.insert(CaNernstReversal())\n",
    "    cell.insert(Leak())\n",
    "\n",
    "    for name, param in params.items():\n",
    "        cell.set(name, param)\n",
    "    \n",
    "    cell.init_states()\n",
    "    \n",
    "    Jhv = jnp.zeros(time_steps)\n",
    "    light_on_start_1 = int(pre_light_time_1 / dt)\n",
    "    light_on_end_1 = int((pre_light_time_1 + light_on_time) / dt)\n",
    "\n",
    "\n",
    "    light_on_start_2 = int( pre_light_time_2 / dt)\n",
    "    light_on_end_2 = int((pre_light_time_2 + light_on_time) / dt)\n",
    "    Jhv = Jhv.at[light_on_start_1:light_on_end_1].set(itensity)\n",
    "    Jhv = Jhv.at[light_on_start_2:light_on_end_2].set(itensity)\n",
    "    Jhv = Jhv.reshape(-1,1)\n",
    "\n",
    "\n",
    "    # This utilizes an experimental feature of jaxley in the external_input branch\n",
    "    cell.external_states = {\n",
    "        \"Phototransduction_Jhv\": Jhv,    \n",
    "    }\n",
    "\n",
    "    for rec in to_records:\n",
    "        cell.record(rec, verbose=False)\n",
    "\n",
    "    # Run the simulation\n",
    "    s = jx.integrate(cell, delta_t=dt, t_max=total_time)\n",
    "    s = parse_s(s, to_records)\n",
    "\n",
    "    ax[\"Jhv\"].plot(time, Jhv, label=f\"{intensity} R*/ms\")\n",
    "    ax[\"Photocurrent\"].plot(time, s[\"iPhoto\"], label=f\"{intensity} R*/s\")\n",
    "    ax[\"v\"].plot(time, s[\"v\"], label=f\"{intensity} R*/s\")\n",
    "\n",
    "for key in ax.keys():\n",
    "    ax[key].set_xlabel(\"Time (ms)\")\n",
    "\n",
    "ax[\"Jhv\"].set_title(r\"$J_{hv}$\")\n",
    "ax[\"Photocurrent\"].set_title(r\"$I_{photo}$\")\n",
    "ax[\"v\"].set_title(r\"$V_{photo}$\")\n",
    "\n",
    "fig.tight_layout()"
   ]
  },
  {
   "cell_type": "code",
   "execution_count": null,
   "metadata": {},
   "outputs": [
    {
     "ename": "KeyError",
     "evalue": "'Key not recognized.'",
     "output_type": "error",
     "traceback": [
      "\u001b[0;31m---------------------------------------------------------------------------\u001b[0m",
      "\u001b[0;31mKeyError\u001b[0m                                  Traceback (most recent call last)",
      "Cell \u001b[0;32mIn[23], line 85\u001b[0m\n\u001b[1;32m     74\u001b[0m \u001b[38;5;66;03m# cell.insert(h())\u001b[39;00m\n\u001b[1;32m     75\u001b[0m \u001b[38;5;66;03m# cell.insert(Kx())\u001b[39;00m\n\u001b[1;32m     76\u001b[0m \u001b[38;5;66;03m# cell.insert(Kv())\u001b[39;00m\n\u001b[0;32m   (...)\u001b[0m\n\u001b[1;32m     81\u001b[0m \u001b[38;5;66;03m# cell.insert(CaNernstReversal())\u001b[39;00m\n\u001b[1;32m     82\u001b[0m \u001b[38;5;66;03m# cell.insert(Leak())\u001b[39;00m\n\u001b[1;32m     84\u001b[0m \u001b[38;5;28;01mfor\u001b[39;00m name, param \u001b[38;5;129;01min\u001b[39;00m params\u001b[38;5;241m.\u001b[39mitems():\n\u001b[0;32m---> 85\u001b[0m     \u001b[43mcell\u001b[49m\u001b[38;5;241;43m.\u001b[39;49m\u001b[43mset\u001b[49m\u001b[43m(\u001b[49m\u001b[43mname\u001b[49m\u001b[43m,\u001b[49m\u001b[43m \u001b[49m\u001b[43mparam\u001b[49m\u001b[43m)\u001b[49m\n\u001b[1;32m     87\u001b[0m cell\u001b[38;5;241m.\u001b[39minit_states()\n\u001b[1;32m     89\u001b[0m Jhv \u001b[38;5;241m=\u001b[39m jnp\u001b[38;5;241m.\u001b[39mzeros(time_steps)\n",
      "File \u001b[0;32m~/Works/retimod/jaxley/jaxley/modules/base.py:275\u001b[0m, in \u001b[0;36mModule.set\u001b[0;34m(self, key, val)\u001b[0m\n\u001b[1;32m    268\u001b[0m \u001b[38;5;66;03m# TODO(@michaeldeistler) should we allow `.set()` for synaptic parameters\u001b[39;00m\n\u001b[1;32m    269\u001b[0m \u001b[38;5;66;03m# without using the `SynapseView`, purely for consistency with `make_trainable`?\u001b[39;00m\n\u001b[1;32m    270\u001b[0m view \u001b[38;5;241m=\u001b[39m (\n\u001b[1;32m    271\u001b[0m     \u001b[38;5;28mself\u001b[39m\u001b[38;5;241m.\u001b[39medges\n\u001b[1;32m    272\u001b[0m     \u001b[38;5;28;01mif\u001b[39;00m key \u001b[38;5;129;01min\u001b[39;00m \u001b[38;5;28mself\u001b[39m\u001b[38;5;241m.\u001b[39msynapse_param_names \u001b[38;5;129;01mor\u001b[39;00m key \u001b[38;5;129;01min\u001b[39;00m \u001b[38;5;28mself\u001b[39m\u001b[38;5;241m.\u001b[39msynapse_state_names\n\u001b[1;32m    273\u001b[0m     \u001b[38;5;28;01melse\u001b[39;00m \u001b[38;5;28mself\u001b[39m\u001b[38;5;241m.\u001b[39mnodes\n\u001b[1;32m    274\u001b[0m )\n\u001b[0;32m--> 275\u001b[0m \u001b[38;5;28;43mself\u001b[39;49m\u001b[38;5;241;43m.\u001b[39;49m\u001b[43m_set\u001b[49m\u001b[43m(\u001b[49m\u001b[43mkey\u001b[49m\u001b[43m,\u001b[49m\u001b[43m \u001b[49m\u001b[43mval\u001b[49m\u001b[43m,\u001b[49m\u001b[43m \u001b[49m\u001b[43mview\u001b[49m\u001b[43m,\u001b[49m\u001b[43m \u001b[49m\u001b[43mview\u001b[49m\u001b[43m)\u001b[49m\n",
      "File \u001b[0;32m~/Works/retimod/jaxley/jaxley/modules/base.py:288\u001b[0m, in \u001b[0;36mModule._set\u001b[0;34m(self, key, val, view, table_to_update)\u001b[0m\n\u001b[1;32m    286\u001b[0m     table_to_update\u001b[38;5;241m.\u001b[39mloc[view\u001b[38;5;241m.\u001b[39mindex\u001b[38;5;241m.\u001b[39mvalues, key] \u001b[38;5;241m=\u001b[39m val\n\u001b[1;32m    287\u001b[0m \u001b[38;5;28;01melse\u001b[39;00m:\n\u001b[0;32m--> 288\u001b[0m     \u001b[38;5;28;01mraise\u001b[39;00m \u001b[38;5;167;01mKeyError\u001b[39;00m(\u001b[38;5;124m\"\u001b[39m\u001b[38;5;124mKey not recognized.\u001b[39m\u001b[38;5;124m\"\u001b[39m)\n",
      "\u001b[0;31mKeyError\u001b[0m: 'Key not recognized.'"
     ]
    },
    {
     "data": {
      "image/png": "[encoded data removed]",
      "text/plain": [
       "<Figure size 300x500 with 3 Axes>"
      ]
     },
     "metadata": {},
     "output_type": "display_data"
    }
   ],
   "source": [
    "\n",
    "\n",
    "params = {\n",
    "    \"length\": 10,\n",
    "    \"radius\": 5,\n",
    "    \"capacitance\": 30.0,\n",
    "    \"axial_resistivity\": 34.5,\n",
    "    \"v\": -34,\n",
    "\n",
    "    \"Leak_gLeak\": 0.52e-3,\n",
    "    \"Leak_eLeak\": -74,\n",
    "\n",
    "    \"eK\": -74,\n",
    "    \"Kv_gKv\": 1e-3,\n",
    "    \"Kx_gKx\": 0.45e-3,\n",
    "\n",
    "    \"CaPump_depth\": 10,\n",
    "    \"CaPump_taur\": 20, \n",
    "    \"CaPump_cainf\": 5e-5,    \n",
    "\n",
    "    \"ClCa_eClCa\": -20,\n",
    "    \"ClCa_gClCa\": 1.3e-3,\n",
    "    \"ClCa_Khalf\": 1e-3, \n",
    "\n",
    "    \"KCa_gKCa\": 0.2e-3,\n",
    "    \"KCa_Khalf\": 0.32e-3,\n",
    "\n",
    "    \"Ca_gCa\": 2.2e-3, \n",
    "    \"eCa\": 40,\n",
    "    \n",
    "    \"h_gh\": 2.5e-3,\n",
    "    \"h_eh\": -32,\n",
    "\n",
    "    f\"{name_photo}_alpha1\": 20.0,  # /s, rate constant of Rh* inactivation\n",
    "    f\"{name_photo}_alpha2\": 0.0005,  # /s, rate constant of the reaction Rhi -> Rh*\n",
    "    f\"{name_photo}_alpha3\": 0.05,  # /s, rate constant of the decay of inactive rhodopsin\n",
    "    f\"{name_photo}_epsilon\": 0.5,  # /s * /μM, rate constant of T* activation\n",
    "    f\"{name_photo}_T_tot\": 1000.0,  # μM, total transduction\n",
    "    f\"{name_photo}_beta1\": 10.6,  # /s, rate constant of T* inactivation\n",
    "    f\"{name_photo}_tau1\": 0.1,  # /s * /μM, rate constant of PDE activation\n",
    "    f\"{name_photo}_tau2\": 10.,  # /s, rate constant of PDE inactivation\n",
    "    f\"{name_photo}_PDE_tot\": 100.0,  # μM, total phosphodiesterase\n",
    "    f\"{name_photo}_sigma\": 1.0,  # /s * /μM, proportionality constant\n",
    "    f\"{name_photo}_gamma_Ca\": 50.0,  # /s, rate constant of Ca2+ extrusion in the absence of Ca2+ buffers mediated by the Na+/Ca2+ exchanger\n",
    "    f\"{name_photo}_C0\": 0.1,  # μM, intracellular Ca2+ concentration at the steady state\n",
    "    f\"{name_photo}_b\": 0.625,  # μM / s * /pA,proportionality constant between Ca2+ influx and photocurrent\n",
    "    f\"{name_photo}_k1\": 0.2,  # /s * /μM, on rate constants for binding of Ca2+ to the buffer\n",
    "    f\"{name_photo}_k2\": 0.8,  # /s, off rate constants for binding of Ca2+ to the buffer\n",
    "    f\"{name_photo}_eT\": 500,  # μM, low affinity Ca2+ buffer concentration\n",
    "    f\"{name_photo}_V_max\": 0.4,  # /s, cGMP hydrolysis in dark\n",
    "    f\"{name_photo}_A_max\": 65.6,  # μM/s, guanylate cyclase activity\n",
    "    f\"{name_photo}_K_c\": 0.1,  # nM, intracellular Ca2+ concentration halving the cyclase activity\n",
    "    f\"{name_photo}_J_max\": 5040.0,  # pA, maximal cGMP-gated current in excised patches\n",
    "\n",
    "}\n",
    "\n",
    "to_records = [\n",
    "    \"iPhoto\", # photocurrent in outer segment\n",
    "    \"v\", # photoresponse in inner segment\n",
    "] # albeit we model it in a single compartment\n",
    "\n",
    "\n",
    "fig, ax = plt.subplot_mosaic([[\"Jhv\"], [\"Photocurrent\"], [\"v\"]], figsize=(3, 5))\n",
    "\n",
    "for itensity in [200]:\n",
    "    pre_light_time_1 = 1000  # ms\n",
    "    pre_light_time_2 = 1000 # ms\n",
    "    light_on_time = 20  # ms\n",
    "    total_time = 5000 # ms\n",
    "    dt = 0.1 # ms\n",
    "    time_steps = int(total_time / dt)\n",
    "    time = jnp.linspace(0, total_time, time_steps)\n",
    "\n",
    "    cell = Compartment()\n",
    "    cell.insert(Phototransduction())\n",
    "    cell.insert(h())\n",
    "    cell.insert(Kx())\n",
    "    cell.insert(Kv())\n",
    "    cell.insert(Ca())\n",
    "    cell.insert(ClCa())\n",
    "    cell.insert(KCa())\n",
    "    cell.insert(CaPump())\n",
    "    cell.insert(CaNernstReversal())\n",
    "    cell.insert(Leak())\n",
    "\n",
    "    for name, param in params.items():\n",
    "        cell.set(name, param)\n",
    "    \n",
    "    cell.init_states()\n",
    "    \n",
    "    Jhv = jnp.zeros(time_steps)\n",
    "    light_on_start_1 = int(pre_light_time_1 / dt)\n",
    "    light_on_end_1 = int((pre_light_time_1 + light_on_time) / dt)\n",
    "\n",
    "\n",
    "    light_on_start_2 = int( pre_light_time_2 / dt)\n",
    "    light_on_end_2 = int((pre_light_time_2 + light_on_time) / dt)\n",
    "    Jhv = Jhv.at[light_on_start_1:light_on_end_1].set(itensity)\n",
    "    Jhv = Jhv.at[light_on_start_2:light_on_end_2].set(itensity)\n",
    "    Jhv = Jhv.reshape(-1,1)\n",
    "\n",
    "\n",
    "    # This utilizes an experimental feature of jaxley in the external_input branch\n",
    "    cell.external_states = {\n",
    "        \"Phototransduction_Jhv\": Jhv,    \n",
    "    }\n",
    "\n",
    "    for rec in to_records:\n",
    "        cell.record(rec, verbose=False)\n",
    "\n",
    "    # Run the simulation\n",
    "    s = jx.integrate(cell, delta_t=dt, t_max=total_time)\n",
    "    s = parse_s(s, to_records)\n",
    "\n",
    "    ax[\"Jhv\"].plot(time, Jhv, label=f\"{itensity} R*/ms\")\n",
    "    ax[\"Photocurrent\"].plot(time, s[\"iPhoto\"], label=f\"{itensity} R*/s\")\n",
    "    ax[\"v\"].plot(time, s[\"v\"], label=f\"{itensity} R*/s\")\n",
    "\n",
    "for key in ax.keys():\n",
    "    ax[key].set_xlabel(\"Time (ms)\")\n",
    "\n",
    "ax[\"Jhv\"].set_title(r\"$J_{hv}$\")\n",
    "ax[\"Photocurrent\"].set_title(r\"$I_{photo}$\")\n",
    "ax[\"v\"].set_title(r\"$V_{photo}$\")\n",
    "\n",
    "fig.tight_layout()"
   ]
  },
  {
   "cell_type": "code",
   "execution_count": null,
   "metadata": {},
   "outputs": [
    {
     "name": "stdout",
     "output_type": "stream",
     "text": [
      "Last updated: 2024-06-07 20:03:07CEST\n",
      "\n",
      "Python implementation: CPython\n",
      "Python version       : 3.10.13\n",
      "IPython version      : 8.21.0\n",
      "\n",
      "jaxley_mech: 0.0.1\n",
      "\n",
      "matplotlib: 3.8.3\n",
      "jaxley    : 0.0.0\n",
      "jax       : 0.4.26\n",
      "\n",
      "Watermark: 2.4.3\n",
      "\n"
     ]
    }
   ],
   "source": [
    "%load_ext watermark\n",
    "%watermark --time --date --timezone --updated --python --iversions --watermark -p jaxley_mech"
   ]
  },
  {
   "cell_type": "code",
   "execution_count": 26,
   "metadata": {},
   "outputs": [
    {
     "data": {
      "text/plain": [
       "16"
      ]
     },
     "execution_count": 26,
     "metadata": {},
     "output_type": "execute_result"
    }
   ],
   "source": [
    "2 * 2 * 2 * 2"
   ]
  },
  {
   "cell_type": "code",
   "execution_count": 27,
   "metadata": {},
   "outputs": [
    {
     "data": {
      "text/plain": [
       "16"
      ]
     },
     "execution_count": 27,
     "metadata": {},
     "output_type": "execute_result"
    }
   ],
   "source": [
    "2 ** 4"
   ]
  },
  {
   "cell_type": "code",
   "execution_count": 30,
   "metadata": {},
   "outputs": [
    {
     "data": {
      "text/plain": [
       "Array(0.7863746, dtype=float32, weak_type=True)"
      ]
     },
     "execution_count": 30,
     "metadata": {},
     "output_type": "execute_result"
    }
   ],
   "source": [
    "jnp.sqrt(jnp.sqrt(0.3824))"
   ]
  },
  {
   "cell_type": "code",
   "execution_count": null,
   "metadata": {},
   "outputs": [],
   "source": []
  }
 ],
 "metadata": {
  "kernelspec": {
   "display_name": ".jaxley",
   "language": "python",
   "name": "python3"
  },
  "language_info": {
   "codemirror_mode": {
    "name": "ipython",
    "version": 3
   },
   "file_extension": ".py",
   "mimetype": "text/x-python",
   "name": "python",
   "nbconvert_exporter": "python",
   "pygments_lexer": "ipython3",
   "version": "3.10.13"
  }
 },
 "nbformat": 4,
 "nbformat_minor": 2
}
